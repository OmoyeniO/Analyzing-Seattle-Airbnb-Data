{
 "cells": [
  {
   "cell_type": "code",
   "execution_count": 14,
   "id": "b891ec6a",
   "metadata": {},
   "outputs": [],
   "source": [
    "import pandas as pd\n",
    "import numpy as np\n",
    "import matplotlib as plt\n",
    "import csv"
   ]
  },
  {
   "cell_type": "code",
   "execution_count": 17,
   "id": "bc07ab74",
   "metadata": {},
   "outputs": [
    {
     "name": "stdout",
     "output_type": "stream",
     "text": [
      "         listing_id        date available price\n",
      "0          12147973  2017-09-05         f   NaN\n",
      "1          12147973  2017-09-04         f   NaN\n",
      "2          12147973  2017-09-03         f   NaN\n",
      "3          12147973  2017-09-02         f   NaN\n",
      "4          12147973  2017-09-01         f   NaN\n",
      "...             ...         ...       ...   ...\n",
      "1308885    14504422  2016-09-10         f   NaN\n",
      "1308886    14504422  2016-09-09         f   NaN\n",
      "1308887    14504422  2016-09-08         f   NaN\n",
      "1308888    14504422  2016-09-07         f   NaN\n",
      "1308889    14504422  2016-09-06         f   NaN\n",
      "\n",
      "[1308890 rows x 4 columns]\n"
     ]
    }
   ],
   "source": [
    "#BData= Boston Data, SData = Seattle Data\n",
    "files = r'/Users/omoyeniogundipe/Desktop/Project1/BostonData/calendar.csv'\n",
    "BData_cal = pd.read_csv(files)\n",
    "\n",
    "print(BData_cal)"
   ]
  },
  {
   "cell_type": "code",
   "execution_count": 18,
   "id": "63b12d26",
   "metadata": {},
   "outputs": [
    {
     "data": {
      "text/plain": [
       "array([[<AxesSubplot:title={'center':'listing_id'}>]], dtype=object)"
      ]
     },
     "execution_count": 18,
     "metadata": {},
     "output_type": "execute_result"
    },
    {
     "data": {
      "image/png": "[encoded data removed]",
      "text/plain": [
       "<Figure size 432x288 with 1 Axes>"
      ]
     },
     "metadata": {
      "needs_background": "light"
     },
     "output_type": "display_data"
    }
   ],
   "source": [
    "BData_cal.hist()"
   ]
  },
  {
   "cell_type": "code",
   "execution_count": 24,
   "id": "d815c97d",
   "metadata": {},
   "outputs": [
    {
     "data": {
      "text/plain": [
       "665853"
      ]
     },
     "execution_count": 24,
     "metadata": {},
     "output_type": "execute_result"
    }
   ],
   "source": [
    "np.sum(BData_cal.price.isnull())"
   ]
  },
  {
   "cell_type": "code",
   "execution_count": null,
   "id": "20186d45",
   "metadata": {},
   "outputs": [],
   "source": []
  },
  {
   "cell_type": "code",
   "execution_count": null,
   "id": "f7e8f693",
   "metadata": {},
   "outputs": [],
   "source": []
  },
  {
   "cell_type": "code",
   "execution_count": null,
   "id": "0e637ec4",
   "metadata": {},
   "outputs": [],
   "source": []
  },
  {
   "cell_type": "code",
   "execution_count": null,
   "id": "f8797dba",
   "metadata": {},
   "outputs": [],
   "source": []
  },
  {
   "cell_type": "code",
   "execution_count": null,
   "id": "872f270a",
   "metadata": {},
   "outputs": [],
   "source": []
  },
  {
   "cell_type": "code",
   "execution_count": null,
   "id": "3616273c",
   "metadata": {},
   "outputs": [],
   "source": []
  },
  {
   "cell_type": "code",
   "execution_count": null,
   "id": "fee2fcd2",
   "metadata": {},
   "outputs": [],
   "source": []
  },
  {
   "cell_type": "code",
   "execution_count": null,
   "id": "4fc8131b",
   "metadata": {},
   "outputs": [],
   "source": []
  },
  {
   "cell_type": "code",
   "execution_count": null,
   "id": "8a9ec4bd",
   "metadata": {},
   "outputs": [],
   "source": []
  },
  {
   "cell_type": "code",
   "execution_count": null,
   "id": "37365be0",
   "metadata": {},
   "outputs": [],
   "source": []
  },
  {
   "cell_type": "code",
   "execution_count": null,
   "id": "031a965f",
   "metadata": {},
   "outputs": [],
   "source": []
  },
  {
   "cell_type": "code",
   "execution_count": null,
   "id": "561a94d6",
   "metadata": {},
   "outputs": [],
   "source": []
  },
  {
   "cell_type": "code",
   "execution_count": null,
   "id": "185eec94",
   "metadata": {},
   "outputs": [],
   "source": []
  },
  {
   "cell_type": "code",
   "execution_count": null,
   "id": "6f143c59",
   "metadata": {},
   "outputs": [],
   "source": []
  },
  {
   "cell_type": "code",
   "execution_count": null,
   "id": "31128e98",
   "metadata": {},
   "outputs": [],
   "source": []
  }
 ],
 "metadata": {
  "kernelspec": {
   "display_name": "Python 3",
   "language": "python",
   "name": "python3"
  },
  "language_info": {
   "codemirror_mode": {
    "name": "ipython",
    "version": 3
   },
   "file_extension": ".py",
   "mimetype": "text/x-python",
   "name": "python",
   "nbconvert_exporter": "python",
   "pygments_lexer": "ipython3",
   "version": "3.8.8"
  }
 },
 "nbformat": 4,
 "nbformat_minor": 5
}
